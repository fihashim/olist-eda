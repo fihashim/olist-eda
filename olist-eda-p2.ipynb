{
 "cells": [
  {
   "cell_type": "code",
   "execution_count": 1,
   "metadata": {},
   "outputs": [
    {
     "name": "stderr",
     "output_type": "stream",
     "text": [
      "/Users/fihashim/miniconda3/envs/py310/lib/python3.10/site-packages/scipy/__init__.py:146: UserWarning: A NumPy version >=1.16.5 and <1.23.0 is required for this version of SciPy (detected version 1.26.4\n",
      "  warnings.warn(f\"A NumPy version >={np_minversion} and <{np_maxversion}\"\n"
     ]
    }
   ],
   "source": [
    "# import relevant libraries\n",
    "import pandas as pd\n",
    "import numpy as np\n",
    "import seaborn as sns\n",
    "import os\n",
    "import plotly.express as px\n",
    "import json\n",
    "from shapely.geometry import Point, Polygon\n",
    "import geopandas as gpd\n",
    "import re\n",
    "import geobr\n",
    "import matplotlib.pyplot as plt\n",
    "import warnings\n",
    "from unidecode import unidecode\n",
    "from datetime import datetime, timedelta\n",
    "warnings.filterwarnings(\"ignore\")"
   ]
  },
  {
   "cell_type": "code",
   "execution_count": 2,
   "metadata": {},
   "outputs": [],
   "source": [
    "# Read CSVs of dataset\n",
    "custom = pd.read_csv('olist_customers_dataset.csv', sep=',')\n",
    "orders = pd.read_csv('olist_orders_dataset.csv', sep=',')\n",
    "order_items = pd.read_csv('olist_order_items_dataset.csv', sep=',')\n",
    "order_reviews = pd.read_csv('olist_order_reviews_dataset.csv', sep=',')\n",
    "geolocation = pd.read_csv('olist_geolocation_dataset.csv', sep=',')\n",
    "order_payments = pd.read_csv('olist_order_payments_dataset.csv', sep=',')\n",
    "products_df = pd.read_csv('olist_products_dataset.csv', sep=',')\n",
    "sellers_df = pd.read_csv('olist_sellers_dataset.csv', sep=',')\n",
    "translations_df = pd.read_csv('product_category_name_translation.csv', sep=',')"
   ]
  },
  {
   "cell_type": "markdown",
   "metadata": {},
   "source": [
    "##### 7. How many sellers are active on Olist, and how does this number change over time?\n",
    "Sellers are considered active if they have made a sale within a 30-day period\n"
   ]
  },
  {
   "cell_type": "code",
   "execution_count": 3,
   "metadata": {},
   "outputs": [],
   "source": [
    "sellers_order_items_orders = sellers_df.merge(order_items, how='left', on='seller_id').merge(orders, how='left', on='order_id')\n",
    "sellers_order_items_orders = sellers_order_items_orders[sellers_order_items_orders['order_status'] == 'delivered']\n",
    "sellers_order_items_orders = sellers_order_items_orders.drop_duplicates(subset=['seller_id'], keep='first')\n",
    "\n",
    "# sellers are considered active if they make a make within the last 30 days which have been delivered.\n",
    "sellers_order_items_orders['before_purchase'] = pd.to_datetime(sellers_order_items_orders['order_purchase_timestamp'].min()) - pd.Timedelta(30, unit='d')\n",
    "sellers_order_items_orders['after_purchase'] = pd.to_datetime(sellers_order_items_orders['order_purchase_timestamp'].max())\n",
    "\n",
    "sellers_order_items_orders.loc[(sellers_order_items_orders['order_purchase_timestamp'] >= sellers_order_items_orders['before_purchase']) & (sellers_order_items_orders['order_purchase_timestamp'] <= sellers_order_items_orders['after_purchase']), 'seller_status'] = 'active'\n",
    "sellers_order_items_orders.loc[(sellers_order_items_orders['order_purchase_timestamp'] <= sellers_order_items_orders['before_purchase']) & (sellers_order_items_orders['order_purchase_timestamp'] >= sellers_order_items_orders['after_purchase']), 'seller_status'] = 'not_active'\n"
   ]
  }
 ],
 "metadata": {
  "kernelspec": {
   "display_name": "py310",
   "language": "python",
   "name": "python3"
  },
  "language_info": {
   "codemirror_mode": {
    "name": "ipython",
    "version": 3
   },
   "file_extension": ".py",
   "mimetype": "text/x-python",
   "name": "python",
   "nbconvert_exporter": "python",
   "pygments_lexer": "ipython3",
   "version": "3.10.13"
  }
 },
 "nbformat": 4,
 "nbformat_minor": 2
}
